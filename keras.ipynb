{
 "cells": [
  {
   "cell_type": "code",
   "execution_count": 1,
   "metadata": {},
   "outputs": [],
   "source": [
    "from __future__ import absolute_import\n",
    "\n",
    "import pandas as pd\n",
    "import numpy as np"
   ]
  },
  {
   "cell_type": "code",
   "execution_count": 2,
   "metadata": {},
   "outputs": [],
   "source": [
    "# load original training data\n",
    "data = pd.read_csv('data/train.csv')"
   ]
  },
  {
   "cell_type": "code",
   "execution_count": 3,
   "metadata": {},
   "outputs": [],
   "source": [
    "# training data aggregation by day_block\n",
    "X = pd.DataFrame(data.groupby(['date_block_num','shop_id', 'item_id', 'item_price'])['item_cnt_day'].sum()).reset_index()\n",
    "\n",
    "# vocabularies\n",
    "shops = pd.read_csv('shops.csv')\n",
    "items = pd.read_csv('items.csv')\n",
    "item_cats = pd.read_csv('item_categories.csv')\n",
    "SHOPS_COUNT = len(shops)\n",
    "ITEMS_COUNT = len(items)\n",
    "CATS_COUNT = len(item_cats)\n",
    "\n",
    "# add feature month to train data\n",
    "X['month'] = X.date_block_num % 12\n",
    "# add item categories to train data\n",
    "X['item_cat'] = X.join(items, on='item_id', how='left', lsuffix='item_id').item_category_id"
   ]
  },
  {
   "cell_type": "code",
   "execution_count": 4,
   "metadata": {},
   "outputs": [],
   "source": [
    "# test data preparation\n",
    "X_test = pd.read_csv('data/test.csv')\n",
    "X_test['date_block_num'] = 34\n",
    "X_test['month'] = 11 % 12\n",
    "\n",
    "# add item price to test\n",
    "X_test['item_price'] = X_test.join(data, on='item_id', how='left', lsuffix='item_id').item_price\n",
    "X_test['item_cat'] = X_test.join(items, on='item_id', how='left', lsuffix='item_id').item_category_id"
   ]
  },
  {
   "cell_type": "code",
   "execution_count": 5,
   "metadata": {},
   "outputs": [
    {
     "name": "stdout",
     "output_type": "stream",
     "text": [
      "shops: 60 item_cat: 84 item_num: 22170 blocks: 34\n"
     ]
    }
   ],
   "source": [
    "print('shops:', len(shops), 'item_cat:', len(item_cats), 'item_num:' ,len(items), 'blocks:', len(data.date_block_num.unique()))"
   ]
  },
  {
   "cell_type": "code",
   "execution_count": 6,
   "metadata": {},
   "outputs": [],
   "source": [
    "# create training inputs and target\n",
    "x = X.values\n",
    "inputs = [x[:,i] for i in [0,1,2,5,3,6]]\n",
    "y = x[:,4]\n",
    "\n",
    "# create test inputs\n",
    "x_test = X_test.values\n",
    "inputs_test = [x_test[:,i] for i in [3,1,2,4,5,6]]"
   ]
  },
  {
   "cell_type": "code",
   "execution_count": 7,
   "metadata": {},
   "outputs": [
    {
     "name": "stderr",
     "output_type": "stream",
     "text": [
      "Using TensorFlow backend.\n"
     ]
    },
    {
     "name": "stdout",
     "output_type": "stream",
     "text": [
      "__________________________________________________________________________________________________\n",
      "Layer (type)                    Output Shape         Param #     Connected to                     \n",
      "==================================================================================================\n",
      "shop_input (InputLayer)         (None, 1)            0                                            \n",
      "__________________________________________________________________________________________________\n",
      "item_input (InputLayer)         (None, 1)            0                                            \n",
      "__________________________________________________________________________________________________\n",
      "category_input (InputLayer)     (None, 1)            0                                            \n",
      "__________________________________________________________________________________________________\n",
      "shop_emb (Embedding)            (None, 1, 16)        960         shop_input[0][0]                 \n",
      "__________________________________________________________________________________________________\n",
      "item_emb (Embedding)            (None, 1, 128)       2837760     item_input[0][0]                 \n",
      "__________________________________________________________________________________________________\n",
      "month_input (InputLayer)        (None, 1)            0                                            \n",
      "__________________________________________________________________________________________________\n",
      "cat_emb (Embedding)             (None, 1, 16)        1344        category_input[0][0]             \n",
      "__________________________________________________________________________________________________\n",
      "shop_batchnorm (BatchNormalizat (None, 1, 16)        64          shop_emb[0][0]                   \n",
      "__________________________________________________________________________________________________\n",
      "item_batchnorm (BatchNormalizat (None, 1, 128)       512         item_emb[0][0]                   \n",
      "__________________________________________________________________________________________________\n",
      "month_emb (Embedding)           (None, 1, 1)         12          month_input[0][0]                \n",
      "__________________________________________________________________________________________________\n",
      "cat_batchnorm (BatchNormalizati (None, 1, 16)        64          cat_emb[0][0]                    \n",
      "__________________________________________________________________________________________________\n",
      "date_input (InputLayer)         (None, 1)            0                                            \n",
      "__________________________________________________________________________________________________\n",
      "shop_flatten (Flatten)          (None, 16)           0           shop_batchnorm[0][0]             \n",
      "__________________________________________________________________________________________________\n",
      "item_flatten (Flatten)          (None, 128)          0           item_batchnorm[0][0]             \n",
      "__________________________________________________________________________________________________\n",
      "month_flatten (Flatten)         (None, 1)            0           month_emb[0][0]                  \n",
      "__________________________________________________________________________________________________\n",
      "price_input (InputLayer)        (None, 1)            0                                            \n",
      "__________________________________________________________________________________________________\n",
      "cat_flatten (Flatten)           (None, 16)           0           cat_batchnorm[0][0]              \n",
      "__________________________________________________________________________________________________\n",
      "inputs_concat (Concatenate)     (None, 163)          0           date_input[0][0]                 \n",
      "                                                                 shop_flatten[0][0]               \n",
      "                                                                 item_flatten[0][0]               \n",
      "                                                                 month_flatten[0][0]              \n",
      "                                                                 price_input[0][0]                \n",
      "                                                                 cat_flatten[0][0]                \n",
      "__________________________________________________________________________________________________\n",
      "inputs_batchnorm (BatchNormaliz (None, 163)          652         inputs_concat[0][0]              \n",
      "__________________________________________________________________________________________________\n",
      "dense1 (Dense)                  (None, 64)           10496       inputs_batchnorm[0][0]           \n",
      "__________________________________________________________________________________________________\n",
      "dense2 (Dense)                  (None, 16)           1040        dense1[0][0]                     \n",
      "__________________________________________________________________________________________________\n",
      "dense3 (Dense)                  (None, 16)           272         dense2[0][0]                     \n",
      "__________________________________________________________________________________________________\n",
      "output (Dense)                  (None, 1)            17          dense3[0][0]                     \n",
      "==================================================================================================\n",
      "Total params: 2,853,193\n",
      "Trainable params: 2,852,547\n",
      "Non-trainable params: 646\n",
      "__________________________________________________________________________________________________\n"
     ]
    }
   ],
   "source": [
    "import keras\n",
    "from keras.models import Sequential, Model, load_model\n",
    "from keras.layers import Dense, Embedding, Input, Concatenate, Flatten, BatchNormalization, Activation, Dropout\n",
    "from keras import optimizers, initializers\n",
    "\n",
    "keras.backend.clear_session()\n",
    "\n",
    "NUM_EPOCHS = 100\n",
    "LEARNING_RATE= 0.001\n",
    "# shops: 60 item_num: 22170 item_cat: 84\n",
    "SHOP_EMB_DIM, ITEM_EMB_DIM, CAT_EMB_DIM = (16, 128, 16)\n",
    "\n",
    "def build_model():\n",
    "#   input layers--numeric \n",
    "    date = Input(shape=(1,), name='date_input')\n",
    "    price = Input(shape=(1,), name='price_input')\n",
    "#   input layers--categorical\n",
    "    shop = Input(shape=(1,), name='shop_input')\n",
    "    item = Input(shape=(1,), name='item_input')\n",
    "    month = Input(shape=(1,), name='month_input')\n",
    "    cat = Input(shape=(1,), name='category_input')\n",
    "    \n",
    "#     weight_init = initializers.RandomNormal(mean=1, stddev=2)\n",
    "#     bias_init = initializers.RandomNormal(mean=0, stddev=0.5)\n",
    "   \n",
    "    shop_emb = Embedding(input_dim=SHOPS_COUNT, output_dim=SHOP_EMB_DIM, input_length=1, name='shop_emb')(shop)\n",
    "    shop_emb = BatchNormalization(name='shop_batchnorm')(shop_emb)\n",
    "    shop_emb = Flatten(name='shop_flatten')(shop_emb)\n",
    "    \n",
    "    item_emb = Embedding(input_dim=ITEMS_COUNT, output_dim=ITEM_EMB_DIM,input_length=1, name='item_emb')(item)\n",
    "    item_emb = BatchNormalization(name='item_batchnorm')(item_emb)\n",
    "    item_emb = Flatten(name='item_flatten')(item_emb)\n",
    "    \n",
    "    month_emb = Embedding(input_dim=12, output_dim=1,input_length=1, name='month_emb')(month)\n",
    "    month_emb = Flatten(name='month_flatten')(month_emb)\n",
    "    \n",
    "    cat_emb = Embedding(input_dim=CATS_COUNT, output_dim=CAT_EMB_DIM, input_length=1, name='cat_emb')(cat)\n",
    "    cat_emb = BatchNormalization(name='cat_batchnorm')(cat_emb)\n",
    "    cat_emb = Flatten(name='cat_flatten')(cat_emb)\n",
    "\n",
    "    inputs = Concatenate(axis=-1, name='inputs_concat')([date, shop_emb, item_emb, month_emb, price, cat_emb])\n",
    "    inputs_batch = BatchNormalization(name='inputs_batchnorm')(inputs)\n",
    "    \n",
    "    preds = Dense(64, activation='tanh', name='dense1')(inputs_batch)\n",
    "#     preds = Dropout(0.1)(preds)\n",
    "    preds = Dense(16, activation='tanh',name='dense2')(preds)\n",
    "#     preds = Dropout(0.1)(preds)\n",
    "    preds = Dense(16, activation='tanh', name='dense3')(preds)\n",
    "    preds = Dense(1,name='output')(preds)\n",
    "    return Model(inputs=[date, shop, item, month, price, cat], outputs=preds)\n",
    "    \n",
    "\n",
    "model = build_model()\n",
    "model.summary()\n",
    "\n"
   ]
  },
  {
   "cell_type": "code",
   "execution_count": 9,
   "metadata": {},
   "outputs": [
    {
     "data": {
      "text/plain": [
       "2935849"
      ]
     },
     "execution_count": 9,
     "metadata": {},
     "output_type": "execute_result"
    }
   ],
   "source": [
    "len(data)"
   ]
  },
  {
   "cell_type": "code",
   "execution_count": null,
   "metadata": {
    "scrolled": true
   },
   "outputs": [
    {
     "name": "stdout",
     "output_type": "stream",
     "text": [
      "Train on 1721631 samples, validate on 17391 samples\n",
      "Epoch 1/100\n",
      "   3328/1721631 [..............................] - ETA: 21:48 - loss: 11.7918 - mean_squared_error: 11.7918"
     ]
    }
   ],
   "source": [
    "from keras.callbacks import ModelCheckpoint,EarlyStopping,TensorBoard,TerminateOnNaN\n",
    "from datetime import datetime\n",
    "\n",
    "adam = optimizers.Adam(lr=LEARNING_RATE)\n",
    "model.compile(optimizer = adam,loss='mean_squared_error',metrics=['mean_squared_error'])\n",
    "# model.save(OUTPUT_DIR)\n",
    "\n",
    "OUTPUT_DIR = './trained_model/'+ 'lr' + str(LEARNING_RATE) + '_' + str(datetime.now()).split(' ')[1].replace(':','-')\n",
    "filepath = \"./keras/weights-improvement-{epoch:02d}-{val_loss:.6f}.hdf5\"\n",
    "\n",
    "# model = load_model('./keras/weights-improvement-02-14.970410.hdf5')\n",
    "\n",
    "callbacks = [\n",
    "             TerminateOnNaN(),\n",
    "             ModelCheckpoint(filepath=filepath,monitor='val_loss', verbose=1, period=1, save_best_only=True),\n",
    "             EarlyStopping(patience=5, monitor='val_loss'),\n",
    "             TensorBoard(log_dir=OUTPUT_DIR, write_images=True, histogram_freq=10, write_grads=True),\n",
    "             keras.callbacks.ReduceLROnPlateau(monitor='val_loss', factor=0.1, patience=1, verbose=1, mode='auto', min_delta=0.0001, cooldown=0, min_lr=0)\n",
    "\n",
    "]\n",
    "\n",
    "model.fit(inputs, y, batch_size = 64, epochs=NUM_EPOCHS, callbacks=callbacks,\n",
    "          validation_split=0.01)\n"
   ]
  },
  {
   "cell_type": "raw",
   "metadata": {},
   "source": []
  },
  {
   "cell_type": "code",
   "execution_count": 10,
   "metadata": {},
   "outputs": [
    {
     "name": "stdout",
     "output_type": "stream",
     "text": [
      "214200/214200 [==============================] - 16s 73us/step\n"
     ]
    }
   ],
   "source": [
    "# predict and write result\n",
    "model = load_model('./keras/weights-improvement-16-17.116480.hdf5')\n",
    "y_out = model.predict(inputs_test, verbose=1).flatten().tolist()\n",
    "\n",
    "import csv\n",
    "with open('predictions.csv', 'w', newline='') as csv_file:\n",
    "    writer = csv.writer(csv_file)\n",
    "    writer.writerow(('ID','item_cnt_month'))\n",
    "    for i in range(len(y_out)):\n",
    "        writer.writerow((i, y_out[i]))"
   ]
  },
  {
   "cell_type": "code",
   "execution_count": 107,
   "metadata": {},
   "outputs": [
    {
     "data": {
      "text/plain": [
       "2935849"
      ]
     },
     "execution_count": 107,
     "metadata": {},
     "output_type": "execute_result"
    }
   ],
   "source": [
    "len(data)"
   ]
  },
  {
   "cell_type": "code",
   "execution_count": null,
   "metadata": {},
   "outputs": [],
   "source": []
  }
 ],
 "metadata": {
  "kernelspec": {
   "display_name": "Python 3",
   "language": "python",
   "name": "python3"
  },
  "language_info": {
   "codemirror_mode": {
    "name": "ipython",
    "version": 3
   },
   "file_extension": ".py",
   "mimetype": "text/x-python",
   "name": "python",
   "nbconvert_exporter": "python",
   "pygments_lexer": "ipython3",
   "version": "3.6.5"
  }
 },
 "nbformat": 4,
 "nbformat_minor": 2
}
