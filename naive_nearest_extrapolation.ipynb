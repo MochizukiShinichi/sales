{
 "cells": [
  {
   "cell_type": "code",
   "execution_count": 69,
   "metadata": {},
   "outputs": [],
   "source": [
    "import pandas as pd\n",
    "import numpy as np\n",
    "\n",
    "# load train\n",
    "data = pd.read_csv('data/train.csv')\n",
    "\n",
    "# data aggregation by day_block\n",
    "X = pd.DataFrame(data.groupby(['date_block_num','shop_id', 'item_id'])['item_cnt_day'].sum()).reset_index()\n",
    "\n",
    "# load test\n",
    "X_test = pd.read_csv('data/test.csv')"
   ]
  },
  {
   "cell_type": "code",
   "execution_count": 70,
   "metadata": {},
   "outputs": [],
   "source": [
    "# for each row in test.csv file, do the following to obtain nearest value\n",
    "\n",
    "# find the nearest month\n",
    "ref_days = pd.merge(X_test,X,how='left',\n",
    "         on=['shop_id', 'item_id'], suffixes=['_test','_train']).groupby(['shop_id', 'item_id'])['date_block_num'].max().reset_index()\n",
    "\n",
    "# query sales of nearest sales\n",
    "refs = pd.merge(ref_days, X,\n",
    "                how='left',\n",
    "                on=['shop_id', 'item_id', 'date_block_num'],)[['shop_id', 'item_id', 'item_cnt_day']]\n",
    "\n",
    "# fill NAs using mean of all predictions, modify accordingly using your own algorithm\n",
    "refs.loc[refs.item_cnt_day.isnull(), 'item_cnt_day'] = refs.item_cnt_day.mean()"
   ]
  },
  {
   "cell_type": "code",
   "execution_count": 65,
   "metadata": {},
   "outputs": [],
   "source": [
    "# output to csv \n",
    "preds = pd.merge(X_test, refs, how='left', on=['shop_id', 'item_id']).rename(columns={'item_cnt_day':'item_cnt_month'})\n",
    "preds.to_csv('predictions.csv', index_label='ID', columns=['item_cnt_month'])"
   ]
  }
 ],
 "metadata": {
  "kernelspec": {
   "display_name": "Python 3",
   "language": "python",
   "name": "python3"
  },
  "language_info": {
   "codemirror_mode": {
    "name": "ipython",
    "version": 3
   },
   "file_extension": ".py",
   "mimetype": "text/x-python",
   "name": "python",
   "nbconvert_exporter": "python",
   "pygments_lexer": "ipython3",
   "version": "3.6.5"
  }
 },
 "nbformat": 4,
 "nbformat_minor": 2
}
