{
 "cells": [
  {
   "cell_type": "code",
   "execution_count": 5,
   "metadata": {},
   "outputs": [],
   "source": [
    "import pandas as pd\n",
    "import numpy as np\n",
    "\n",
    "# data description and idea\n",
    "data = pd.read_csv('data/train.csv')\n",
    "\n",
    "# transform date to datetime object\n",
    "from datetime import datetime\n",
    "times = [datetime.strptime(t, '%d.%m.%Y') for t in data.date]\n",
    "data.date = times\n",
    "\n",
    "# data aggregation by day_block\n",
    "X = pd.DataFrame(data.groupby(['date_block_num','shop_id', 'item_id', 'item_price'])['item_cnt_day'].sum()).reset_index()\n",
    "X['month'] = X.date_block_num % 12\n",
    "\n",
    "# create train and eval\n",
    "np.random.seed(654)\n",
    "msk = np.random.rand(len(X))< 0.9\n",
    "X_train = X[msk]\n",
    "X_eval = X[~msk]"
   ]
  },
  {
   "cell_type": "code",
   "execution_count": null,
   "metadata": {},
   "outputs": [],
   "source": []
  },
  {
   "cell_type": "code",
   "execution_count": 49,
   "metadata": {},
   "outputs": [
    {
     "data": {
      "text/html": [
       "<div>\n",
       "<style scoped>\n",
       "    .dataframe tbody tr th:only-of-type {\n",
       "        vertical-align: middle;\n",
       "    }\n",
       "\n",
       "    .dataframe tbody tr th {\n",
       "        vertical-align: top;\n",
       "    }\n",
       "\n",
       "    .dataframe thead th {\n",
       "        text-align: right;\n",
       "    }\n",
       "</style>\n",
       "<table border=\"1\" class=\"dataframe\">\n",
       "  <thead>\n",
       "    <tr style=\"text-align: right;\">\n",
       "      <th></th>\n",
       "      <th>date_block_num</th>\n",
       "      <th>shop_id</th>\n",
       "      <th>item_id</th>\n",
       "      <th>item_price</th>\n",
       "      <th>item_cnt_day</th>\n",
       "      <th>month</th>\n",
       "    </tr>\n",
       "  </thead>\n",
       "  <tbody>\n",
       "    <tr>\n",
       "      <th>0</th>\n",
       "      <td>0</td>\n",
       "      <td>0</td>\n",
       "      <td>32</td>\n",
       "      <td>221.0</td>\n",
       "      <td>6.0</td>\n",
       "      <td>0</td>\n",
       "    </tr>\n",
       "    <tr>\n",
       "      <th>1</th>\n",
       "      <td>0</td>\n",
       "      <td>0</td>\n",
       "      <td>33</td>\n",
       "      <td>347.0</td>\n",
       "      <td>3.0</td>\n",
       "      <td>0</td>\n",
       "    </tr>\n",
       "    <tr>\n",
       "      <th>2</th>\n",
       "      <td>0</td>\n",
       "      <td>0</td>\n",
       "      <td>35</td>\n",
       "      <td>247.0</td>\n",
       "      <td>1.0</td>\n",
       "      <td>0</td>\n",
       "    </tr>\n",
       "    <tr>\n",
       "      <th>3</th>\n",
       "      <td>0</td>\n",
       "      <td>0</td>\n",
       "      <td>43</td>\n",
       "      <td>221.0</td>\n",
       "      <td>1.0</td>\n",
       "      <td>0</td>\n",
       "    </tr>\n",
       "    <tr>\n",
       "      <th>4</th>\n",
       "      <td>0</td>\n",
       "      <td>0</td>\n",
       "      <td>51</td>\n",
       "      <td>127.0</td>\n",
       "      <td>1.0</td>\n",
       "      <td>0</td>\n",
       "    </tr>\n",
       "  </tbody>\n",
       "</table>\n",
       "</div>"
      ],
      "text/plain": [
       "   date_block_num  shop_id  item_id  item_price  item_cnt_day  month\n",
       "0               0        0       32       221.0           6.0      0\n",
       "1               0        0       33       347.0           3.0      0\n",
       "2               0        0       35       247.0           1.0      0\n",
       "3               0        0       43       221.0           1.0      0\n",
       "4               0        0       51       127.0           1.0      0"
      ]
     },
     "execution_count": 49,
     "metadata": {},
     "output_type": "execute_result"
    }
   ],
   "source": [
    "X.iloc[:,[0,1,2,3,4,5]].head()"
   ]
  },
  {
   "cell_type": "code",
   "execution_count": 2,
   "metadata": {},
   "outputs": [
    {
     "data": {
      "text/html": [
       "<div>\n",
       "<style scoped>\n",
       "    .dataframe tbody tr th:only-of-type {\n",
       "        vertical-align: middle;\n",
       "    }\n",
       "\n",
       "    .dataframe tbody tr th {\n",
       "        vertical-align: top;\n",
       "    }\n",
       "\n",
       "    .dataframe thead th {\n",
       "        text-align: right;\n",
       "    }\n",
       "</style>\n",
       "<table border=\"1\" class=\"dataframe\">\n",
       "  <thead>\n",
       "    <tr style=\"text-align: right;\">\n",
       "      <th></th>\n",
       "      <th>ID</th>\n",
       "      <th>shop_id</th>\n",
       "      <th>item_id</th>\n",
       "      <th>date_block_num</th>\n",
       "      <th>month</th>\n",
       "    </tr>\n",
       "  </thead>\n",
       "  <tbody>\n",
       "    <tr>\n",
       "      <th>0</th>\n",
       "      <td>0</td>\n",
       "      <td>5</td>\n",
       "      <td>5037</td>\n",
       "      <td>34</td>\n",
       "      <td>11</td>\n",
       "    </tr>\n",
       "    <tr>\n",
       "      <th>1</th>\n",
       "      <td>1</td>\n",
       "      <td>5</td>\n",
       "      <td>5320</td>\n",
       "      <td>34</td>\n",
       "      <td>11</td>\n",
       "    </tr>\n",
       "    <tr>\n",
       "      <th>2</th>\n",
       "      <td>2</td>\n",
       "      <td>5</td>\n",
       "      <td>5233</td>\n",
       "      <td>34</td>\n",
       "      <td>11</td>\n",
       "    </tr>\n",
       "    <tr>\n",
       "      <th>3</th>\n",
       "      <td>3</td>\n",
       "      <td>5</td>\n",
       "      <td>5232</td>\n",
       "      <td>34</td>\n",
       "      <td>11</td>\n",
       "    </tr>\n",
       "    <tr>\n",
       "      <th>4</th>\n",
       "      <td>4</td>\n",
       "      <td>5</td>\n",
       "      <td>5268</td>\n",
       "      <td>34</td>\n",
       "      <td>11</td>\n",
       "    </tr>\n",
       "  </tbody>\n",
       "</table>\n",
       "</div>"
      ],
      "text/plain": [
       "   ID  shop_id  item_id  date_block_num  month\n",
       "0   0        5     5037              34     11\n",
       "1   1        5     5320              34     11\n",
       "2   2        5     5233              34     11\n",
       "3   3        5     5232              34     11\n",
       "4   4        5     5268              34     11"
      ]
     },
     "execution_count": 2,
     "metadata": {},
     "output_type": "execute_result"
    }
   ],
   "source": [
    "# test data preparation\n",
    "X_test = pd.read_csv('data/test.csv')\n",
    "X_test['date_block_num'] = 34\n",
    "X_test['month'] = 11 % 12\n",
    "X_test.head()"
   ]
  },
  {
   "cell_type": "code",
   "execution_count": 6,
   "metadata": {},
   "outputs": [],
   "source": [
    "# vocabularies for catgories\n",
    "shops = pd.read_csv('shops.csv')\n",
    "items = pd.read_csv('items.csv')\n",
    "item_cats = pd.read_csv('item_categories.csv')\n",
    "SHOPS_COUNT = len(shops)\n",
    "ITEMS_COUNT = len(items)\n",
    "CATS_COUNT = len(item_cats)"
   ]
  },
  {
   "cell_type": "code",
   "execution_count": 4,
   "metadata": {},
   "outputs": [
    {
     "name": "stdout",
     "output_type": "stream",
     "text": [
      "   date_block_num  shop_id  item_id  item_price  item_cnt_day  month\n",
      "0               0        0       32       221.0           6.0      0\n",
      "1               0        0       33       347.0           3.0      0\n",
      "2               0        0       35       247.0           1.0      0\n",
      "3               0        0       43       221.0           1.0      0\n",
      "4               0        0       51       127.0           1.0      0\n",
      "    date_block_num  shop_id  item_id  item_price  item_cnt_day  month\n",
      "11               0        0       98       268.0          25.0      0\n",
      "12               0        0      111        89.0           1.0      0\n",
      "19               0        0      306        59.0           1.0      0\n",
      "27               0        0      556        90.0           9.0      0\n",
      "44               0        0      965       190.0           1.0      0\n",
      "shops: 60 item_cat: 84 item_num: 22170 blocks: 34\n"
     ]
    },
    {
     "data": {
      "image/png": "[encoded data removed]",
      "text/plain": [
       "<Figure size 432x288 with 1 Axes>"
      ]
     },
     "metadata": {},
     "output_type": "display_data"
    }
   ],
   "source": [
    "print(X_train.head())\n",
    "print(X_eval.head())\n",
    "\n",
    "%matplotlib inline\n",
    "\n",
    "import matplotlib.pyplot as plt\n",
    "import numpy as np\n",
    "\n",
    "# categorical lengths\n",
    "plt.hist(data.date_block_num)\n",
    "print('shops:', len(shops), 'item_cat:', len(item_cats), 'item_num:' ,len(items), 'blocks:', len(data.date_block_num.unique()))"
   ]
  },
  {
   "cell_type": "code",
   "execution_count": 3,
   "metadata": {},
   "outputs": [],
   "source": [
    "import tensorflow as tf"
   ]
  },
  {
   "cell_type": "code",
   "execution_count": 1,
   "metadata": {},
   "outputs": [
    {
     "name": "stderr",
     "output_type": "stream",
     "text": [
      "d:\\coding\\python\\lib\\site-packages\\h5py\\__init__.py:36: FutureWarning: Conversion of the second argument of issubdtype from `float` to `np.floating` is deprecated. In future, it will be treated as `np.float64 == np.dtype(float).type`.\n",
      "  from ._conv import register_converters as _register_converters\n"
     ]
    }
   ],
   "source": [
    "import dnn"
   ]
  },
  {
   "cell_type": "code",
   "execution_count": 13,
   "metadata": {},
   "outputs": [
    {
     "name": "stdout",
     "output_type": "stream",
     "text": [
      "INFO:tensorflow:Using config: {'_model_dir': './trained_model/lr1e-05units348_16_16', '_tf_random_seed': None, '_save_summary_steps': 100, '_save_checkpoints_steps': 1000, '_save_checkpoints_secs': None, '_session_config': allow_soft_placement: true\n",
      "graph_options {\n",
      "  rewrite_options {\n",
      "    meta_optimizer_iterations: ONE\n",
      "  }\n",
      "}\n",
      ", '_keep_checkpoint_max': 5, '_keep_checkpoint_every_n_hours': 10000, '_log_step_count_steps': 100, '_train_distribute': None, '_device_fn': None, '_protocol': None, '_eval_distribute': None, '_experimental_distribute': None, '_service': None, '_cluster_spec': <tensorflow.python.training.server_lib.ClusterSpec object at 0x000002041A6A04E0>, '_task_type': 'worker', '_task_id': 0, '_global_id_in_cluster': 0, '_master': '', '_evaluation_master': '', '_is_chief': True, '_num_ps_replicas': 0, '_num_worker_replicas': 1}\n"
     ]
    }
   ],
   "source": [
    "# create feature columns\n",
    "def create_feature_columns():\n",
    "    item_col = tf.feature_column.categorical_column_with_identity('item_id', num_buckets = ITEMS_COUNT)\n",
    "    item_col_emb = tf.feature_column.embedding_column(item_col, CATS_COUNT, initializer=tf.ones_initializer)\n",
    "    month_col = tf.feature_column.categorical_column_with_identity('month', 12)\n",
    "    month_col_emb = tf.feature_column.embedding_column(month_col, 12, initializer=tf.ones_initializer)\n",
    "    shop_col = tf.feature_column.categorical_column_with_identity('shop_id', num_buckets = SHOPS_COUNT)\n",
    "    shop_col_emb = tf.feature_column.embedding_column(shop_col, 60, initializer=tf.ones_initializer)\n",
    "    \n",
    "    return [tf.feature_column.numeric_column('date_block_num'), item_col_emb, month_col_emb, shop_col_emb]\n",
    "\n",
    "# create input function for train and eval\n",
    "def make_input_fn(df, num_epochs):\n",
    "    return tf.estimator.inputs.pandas_input_fn(\n",
    "    x = df,\n",
    "    y = df['item_cnt_day'],\n",
    "    batch_size = 64,\n",
    "    num_epochs = num_epochs,\n",
    "    shuffle = True\n",
    "  )\n",
    "\n",
    "# Feature columns\n",
    "FEATURES = create_feature_columns()\n",
    "hidden_units = [48, 16, 16]\n",
    "learning_rate = 1e-5\n",
    "OUTPUT_DIR = './trained_model/'+ 'lr' + str(learning_rate) + 'units3' + '_'.join([str(s) for s in hidden_units])\n",
    "# optimizer\n",
    "gd = tf.train.GradientDescentOptimizer(learning_rate = learning_rate)\n",
    "# adam = tf.train.AdamOptimizer(learning_rate=0.0001, epsilon=1e-4)\n",
    "ftrl = tf.train.FtrlOptimizer(0.0001)\n",
    "\n",
    "# # run_configuration \n",
    "run_config = tf.estimator.RunConfig(save_checkpoints_steps = 1000)\n",
    "\n",
    "# DNN linear estimator\n",
    "# estimator = tf.estimator.DNNLinearCombinedRegressor(model_dir=OUTPUT_DIR, \n",
    "#                                                     dnn_optimizer = gd,\n",
    "#                                                     linear_optimizer = ftrl,\n",
    "#                                                     dnn_hidden_units = [32, 16, 1],\n",
    "#                                                    linear_feature_columns=FEATURES[1:2],\n",
    "# #                                                     batch_norm = True,\n",
    "#                                                    dnn_feature_columns = [FEATURES[0], FEATURES[3]],\n",
    "#                                                     loss_reduction = tf.losses.Reduction.MEAN)\n",
    "# Lienar Regressor                                                   \n",
    "# estimator = tf.estimator.LinearRegressor(model_dir=OUTPUT_DIR,\n",
    "#                                         feature_columns=FEATURES,\n",
    "#                                         loss_reduction = tf.losses.Reduction.MEAN)\n",
    "\n",
    "# DNN regressor\n",
    "estimator = dnn.DNNRegressor(model_dir=OUTPUT_DIR,\n",
    "                                        optimizer = gd,\n",
    "                                        hidden_units = hidden_units,\n",
    "                                        batch_norm = True,\n",
    "                                        feature_columns=FEATURES,\n",
    "                                        loss_reduction = tf.losses.Reduction.MEAN, config = run_config)\n",
    "\n",
    "def train_and_eval(NUM_EPOCHS, estimator):\n",
    "    \n",
    "    train_spec = tf.estimator.TrainSpec(input_fn = make_input_fn(X_train, None), max_steps=NUM_EPOCHS)\n",
    "    eval_spec = tf.estimator.EvalSpec(input_fn = make_input_fn(X_eval, 1), throttle_secs=5)\n",
    "    \n",
    "    return tf.estimator.train_and_evaluate(estimator, train_spec, eval_spec)"
   ]
  },
  {
   "cell_type": "code",
   "execution_count": 14,
   "metadata": {},
   "outputs": [
    {
     "name": "stdout",
     "output_type": "stream",
     "text": [
      "INFO:tensorflow:Running training and evaluation locally (non-distributed).\n",
      "INFO:tensorflow:Start train and evaluate loop. The evaluate will happen after every checkpoint. Checkpoint frequency is determined based on RunConfig arguments: save_checkpoints_steps 1000 or save_checkpoints_secs None.\n",
      "INFO:tensorflow:Calling model_fn.\n",
      "INFO:tensorflow:Done calling model_fn.\n",
      "INFO:tensorflow:Create CheckpointSaverHook.\n",
      "INFO:tensorflow:Graph was finalized.\n",
      "INFO:tensorflow:Running local_init_op.\n",
      "INFO:tensorflow:Done running local_init_op.\n",
      "INFO:tensorflow:Saving checkpoints for 0 into ./trained_model/lr1e-05units348_16_16\\model.ckpt.\n",
      "INFO:tensorflow:loss = 8.09375, step = 0\n",
      "INFO:tensorflow:global_step/sec: 82.4491\n",
      "INFO:tensorflow:loss = 15.65942, step = 100 (1.215 sec)\n",
      "INFO:tensorflow:global_step/sec: 130.67\n",
      "INFO:tensorflow:loss = 7.0733166, step = 200 (0.764 sec)\n",
      "INFO:tensorflow:global_step/sec: 127.833\n",
      "INFO:tensorflow:loss = 11.732049, step = 300 (0.783 sec)\n",
      "INFO:tensorflow:global_step/sec: 127.996\n",
      "INFO:tensorflow:loss = 17.286266, step = 400 (0.781 sec)\n",
      "INFO:tensorflow:global_step/sec: 129.319\n",
      "INFO:tensorflow:loss = 8.327854, step = 500 (0.772 sec)\n",
      "INFO:tensorflow:global_step/sec: 120.016\n",
      "INFO:tensorflow:loss = 4.664934, step = 600 (0.834 sec)\n",
      "INFO:tensorflow:global_step/sec: 130.67\n",
      "INFO:tensorflow:loss = 151.42346, step = 700 (0.765 sec)\n",
      "INFO:tensorflow:global_step/sec: 128.82\n",
      "INFO:tensorflow:loss = 16.606094, step = 800 (0.775 sec)\n",
      "INFO:tensorflow:global_step/sec: 129.152\n",
      "INFO:tensorflow:loss = 131.87236, step = 900 (0.775 sec)\n",
      "INFO:tensorflow:Saving checkpoints for 1000 into ./trained_model/lr1e-05units348_16_16\\model.ckpt.\n",
      "INFO:tensorflow:Calling model_fn.\n",
      "INFO:tensorflow:Done calling model_fn.\n",
      "INFO:tensorflow:Starting evaluation at 2018-09-21-02:59:07\n",
      "INFO:tensorflow:Graph was finalized.\n",
      "INFO:tensorflow:Restoring parameters from ./trained_model/lr1e-05units348_16_16\\model.ckpt-1000\n",
      "INFO:tensorflow:Running local_init_op.\n",
      "INFO:tensorflow:Done running local_init_op.\n",
      "INFO:tensorflow:Evaluation [10/100]\n",
      "INFO:tensorflow:Evaluation [20/100]\n",
      "INFO:tensorflow:Evaluation [30/100]\n",
      "INFO:tensorflow:Evaluation [40/100]\n",
      "INFO:tensorflow:Evaluation [50/100]\n",
      "INFO:tensorflow:Evaluation [60/100]\n",
      "INFO:tensorflow:Evaluation [70/100]\n",
      "INFO:tensorflow:Evaluation [80/100]\n",
      "INFO:tensorflow:Evaluation [90/100]\n",
      "INFO:tensorflow:Evaluation [100/100]\n",
      "INFO:tensorflow:Finished evaluation at 2018-09-21-02:59:09\n",
      "INFO:tensorflow:Saving dict for global step 1000: average_loss = 49.5603, global_step = 1000, label/mean = 2.035, loss = 49.5603, prediction/mean = -0.9566368\n",
      "INFO:tensorflow:Saving 'checkpoint_path' summary for global step 1000: ./trained_model/lr1e-05units348_16_16\\model.ckpt-1000\n",
      "INFO:tensorflow:Loss for final step: 4.4975104.\n"
     ]
    },
    {
     "data": {
      "text/plain": [
       "({'average_loss': 49.5603,\n",
       "  'label/mean': 2.035,\n",
       "  'loss': 49.5603,\n",
       "  'prediction/mean': -0.9566368,\n",
       "  'global_step': 1000},\n",
       " [])"
      ]
     },
     "execution_count": 14,
     "metadata": {},
     "output_type": "execute_result"
    }
   ],
   "source": [
    "tf.reset_default_graph()\n",
    "train_and_eval(1000, estimator)"
   ]
  },
  {
   "cell_type": "code",
   "execution_count": 41,
   "metadata": {},
   "outputs": [],
   "source": [
    "result = estimator.predict(input_fn = tf.estimator.inputs.pandas_input_fn(x = X_test,num_epochs=1,shuffle=False))"
   ]
  },
  {
   "cell_type": "code",
   "execution_count": 42,
   "metadata": {},
   "outputs": [
    {
     "name": "stdout",
     "output_type": "stream",
     "text": [
      "INFO:tensorflow:Calling model_fn.\n",
      "INFO:tensorflow:Done calling model_fn.\n",
      "INFO:tensorflow:Graph was finalized.\n",
      "INFO:tensorflow:Restoring parameters from ./trained_model/lr1e-06units48_16_16\\model.ckpt-60000\n",
      "INFO:tensorflow:Running local_init_op.\n",
      "INFO:tensorflow:Done running local_init_op.\n"
     ]
    }
   ],
   "source": [
    "Y_out = np.array([p['predictions'] for i,p in enumerate(result)]).flatten()\n",
    "\n",
    "import csv\n",
    "with open('predictions.csv', 'w', newline='') as csv_file:\n",
    "    writer = csv.writer(csv_file)\n",
    "    writer.writerow(('ID','item_cnt_month'))\n",
    "    for i in range(len(Y_out)):\n",
    "        writer.writerow((i, Y_out[i]))"
   ]
  },
  {
   "cell_type": "code",
   "execution_count": null,
   "metadata": {},
   "outputs": [],
   "source": []
  }
 ],
 "metadata": {
  "kernelspec": {
   "display_name": "Python 3",
   "language": "python",
   "name": "python3"
  },
  "language_info": {
   "codemirror_mode": {
    "name": "ipython",
    "version": 3
   },
   "file_extension": ".py",
   "mimetype": "text/x-python",
   "name": "python",
   "nbconvert_exporter": "python",
   "pygments_lexer": "ipython3",
   "version": "3.6.5"
  }
 },
 "nbformat": 4,
 "nbformat_minor": 2
}
