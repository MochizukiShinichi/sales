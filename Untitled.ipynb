{
 "cells": [
  {
   "cell_type": "code",
   "execution_count": 7,
   "metadata": {},
   "outputs": [
    {
     "data": {
      "text/plain": [
       "'24d14-36'"
      ]
     },
     "execution_count": 7,
     "metadata": {},
     "output_type": "execute_result"
    }
   ],
   "source": [
    "from datetime import datetime\n",
    "datetime.now().strftime(\"%dd%H-%M\")"
   ]
  },
  {
   "cell_type": "code",
   "execution_count": 2,
   "metadata": {},
   "outputs": [
    {
     "name": "stderr",
     "output_type": "stream",
     "text": [
      "Using TensorFlow backend.\n"
     ]
    }
   ],
   "source": [
    "from keras.models import load_model"
   ]
  },
  {
   "cell_type": "code",
   "execution_count": 4,
   "metadata": {},
   "outputs": [],
   "source": [
    "model=load_model('./trained_model/lr0.001_23-05-41.233404/weights-improvement-16-17.116480.hdf5')"
   ]
  },
  {
   "cell_type": "code",
   "execution_count": 5,
   "metadata": {},
   "outputs": [
    {
     "name": "stdout",
     "output_type": "stream",
     "text": [
      "__________________________________________________________________________________________________\n",
      "Layer (type)                    Output Shape         Param #     Connected to                     \n",
      "==================================================================================================\n",
      "shop_input (InputLayer)         (None, 1)            0                                            \n",
      "__________________________________________________________________________________________________\n",
      "item_input (InputLayer)         (None, 1)            0                                            \n",
      "__________________________________________________________________________________________________\n",
      "category_input (InputLayer)     (None, 1)            0                                            \n",
      "__________________________________________________________________________________________________\n",
      "shop_emb (Embedding)            (None, 1, 16)        960         shop_input[0][0]                 \n",
      "__________________________________________________________________________________________________\n",
      "item_emb (Embedding)            (None, 1, 128)       2837760     item_input[0][0]                 \n",
      "__________________________________________________________________________________________________\n",
      "month_input (InputLayer)        (None, 1)            0                                            \n",
      "__________________________________________________________________________________________________\n",
      "cat_emb (Embedding)             (None, 1, 16)        1344        category_input[0][0]             \n",
      "__________________________________________________________________________________________________\n",
      "shop_batchnorm (BatchNormalizat (None, 1, 16)        64          shop_emb[0][0]                   \n",
      "__________________________________________________________________________________________________\n",
      "item_batchnorm (BatchNormalizat (None, 1, 128)       512         item_emb[0][0]                   \n",
      "__________________________________________________________________________________________________\n",
      "month_emb (Embedding)           (None, 1, 1)         12          month_input[0][0]                \n",
      "__________________________________________________________________________________________________\n",
      "cat_batchnorm (BatchNormalizati (None, 1, 16)        64          cat_emb[0][0]                    \n",
      "__________________________________________________________________________________________________\n",
      "date_input (InputLayer)         (None, 1)            0                                            \n",
      "__________________________________________________________________________________________________\n",
      "shop_flatten (Flatten)          (None, 16)           0           shop_batchnorm[0][0]             \n",
      "__________________________________________________________________________________________________\n",
      "item_flatten (Flatten)          (None, 128)          0           item_batchnorm[0][0]             \n",
      "__________________________________________________________________________________________________\n",
      "month_flatten (Flatten)         (None, 1)            0           month_emb[0][0]                  \n",
      "__________________________________________________________________________________________________\n",
      "price_input (InputLayer)        (None, 1)            0                                            \n",
      "__________________________________________________________________________________________________\n",
      "cat_flatten (Flatten)           (None, 16)           0           cat_batchnorm[0][0]              \n",
      "__________________________________________________________________________________________________\n",
      "inputs_concat (Concatenate)     (None, 163)          0           date_input[0][0]                 \n",
      "                                                                 shop_flatten[0][0]               \n",
      "                                                                 item_flatten[0][0]               \n",
      "                                                                 month_flatten[0][0]              \n",
      "                                                                 price_input[0][0]                \n",
      "                                                                 cat_flatten[0][0]                \n",
      "__________________________________________________________________________________________________\n",
      "inputs_batchnorm (BatchNormaliz (None, 163)          652         inputs_concat[0][0]              \n",
      "__________________________________________________________________________________________________\n",
      "dense1 (Dense)                  (None, 48)           7872        inputs_batchnorm[0][0]           \n",
      "__________________________________________________________________________________________________\n",
      "dropout_1 (Dropout)             (None, 48)           0           dense1[0][0]                     \n",
      "__________________________________________________________________________________________________\n",
      "dense2 (Dense)                  (None, 16)           784         dropout_1[0][0]                  \n",
      "__________________________________________________________________________________________________\n",
      "dropout_2 (Dropout)             (None, 16)           0           dense2[0][0]                     \n",
      "__________________________________________________________________________________________________\n",
      "dense3 (Dense)                  (None, 16)           272         dropout_2[0][0]                  \n",
      "__________________________________________________________________________________________________\n",
      "output (Dense)                  (None, 1)            17          dense3[0][0]                     \n",
      "==================================================================================================\n",
      "Total params: 2,850,313\n",
      "Trainable params: 2,849,667\n",
      "Non-trainable params: 646\n",
      "__________________________________________________________________________________________________\n"
     ]
    }
   ],
   "source": [
    "model.summary()"
   ]
  },
  {
   "cell_type": "code",
   "execution_count": null,
   "metadata": {},
   "outputs": [],
   "source": []
  }
 ],
 "metadata": {
  "kernelspec": {
   "display_name": "Python 3",
   "language": "python",
   "name": "python3"
  },
  "language_info": {
   "codemirror_mode": {
    "name": "ipython",
    "version": 3
   },
   "file_extension": ".py",
   "mimetype": "text/x-python",
   "name": "python",
   "nbconvert_exporter": "python",
   "pygments_lexer": "ipython3",
   "version": "3.6.5"
  }
 },
 "nbformat": 4,
 "nbformat_minor": 2
}
